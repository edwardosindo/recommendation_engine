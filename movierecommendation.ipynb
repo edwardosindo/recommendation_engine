{
 "cells": [
  {
   "cell_type": "code",
   "execution_count": 1,
   "id": "5b48c978",
   "metadata": {},
   "outputs": [],
   "source": [
    "# https://medium.com/analytics-vidhya/movie-recommendation-with-collaborative-filtering-in-pyspark-8385dccecfca\n",
    "\n",
    "# from pyspark.context import SparkContext\n",
    "# from pyspark.sql.session import SparkSession\n",
    "# sc = SparkContext.getOrCreate();\n",
    "\n",
    "# spark = SparkSession(sc)\n",
    "\n",
    "from pyspark.sql.session import SparkSession\n",
    "import findspark\n",
    "findspark.find()\n",
    "\n",
    "import pyspark\n",
    "sc = pyspark.SparkContext(appName=\"myAppName\")\n",
    "\n",
    "spark = SparkSession(sc)"
   ]
  },
  {
   "cell_type": "code",
   "execution_count": 3,
   "id": "35937dbc",
   "metadata": {},
   "outputs": [
    {
     "name": "stdout",
     "output_type": "stream",
     "text": [
      "+------+-------+------+----------+\n",
      "|userId|movieId|rating| timestamp|\n",
      "+------+-------+------+----------+\n",
      "|     1|      2|   3.5|1112486027|\n",
      "|     1|     29|   3.5|1112484676|\n",
      "|     1|     32|   3.5|1112484819|\n",
      "|     1|     47|   3.5|1112484727|\n",
      "|     1|     50|   3.5|1112484580|\n",
      "+------+-------+------+----------+\n",
      "only showing top 5 rows\n",
      "\n"
     ]
    }
   ],
   "source": [
    "# Reading our csv file\n",
    "ratings = spark.read.option(\"inferSchema\",True)\\\n",
    "                    .option(\"header\",True)\\\n",
    "                    .csv(\"recommendation/ml-20m/ratings.csv\")\n",
    "ratings.show(5)"
   ]
  },
  {
   "cell_type": "code",
   "execution_count": 4,
   "id": "9e65bf89",
   "metadata": {},
   "outputs": [],
   "source": [
    "# Initiate our ALS model and split dataset to train and test\n",
    "from pyspark.ml.recommendation import ALS\n",
    "\n",
    "als = ALS(maxIter=10, regParam=0.5, userCol=\"userId\", itemCol=\"movieId\", ratingCol=\"rating\", coldStartStrategy=\"drop\")\n",
    "\n",
    "train, test = ratings.randomSplit([0.8, 0.2])"
   ]
  },
  {
   "cell_type": "code",
   "execution_count": 5,
   "id": "a7882907",
   "metadata": {},
   "outputs": [
    {
     "name": "stdout",
     "output_type": "stream",
     "text": [
      "+------+-------+------+----------+----------+\n",
      "|userId|movieId|rating| timestamp|prediction|\n",
      "+------+-------+------+----------+----------+\n",
      "| 87301|    148|   2.0| 974945135|  2.159832|\n",
      "| 22884|    148|   3.0| 944947868|  2.433311|\n",
      "|  5585|    148|   3.0| 833940677| 2.9189413|\n",
      "| 36445|    148|   4.5|1419358555|  2.321209|\n",
      "| 46146|    148|   2.0| 839629075| 1.9508841|\n",
      "| 46944|    148|   2.0| 839965214|  2.567991|\n",
      "| 60334|    148|   4.0| 832478061| 2.5743947|\n",
      "| 46380|    148|   4.0| 828462479|   2.71672|\n",
      "|108140|    148|   1.0| 840355078| 2.3267968|\n",
      "|101628|    148|   1.0| 835452658| 2.1210291|\n",
      "+------+-------+------+----------+----------+\n",
      "only showing top 10 rows\n",
      "\n"
     ]
    }
   ],
   "source": [
    "#So, now lets train our model and generate predictions.\n",
    "\n",
    "#Training the model\n",
    "alsModel = als.fit(train)\n",
    "\n",
    "#Generating Predictions\n",
    "prediction = alsModel.transform(test)\n",
    "\n",
    "prediction.show(10)"
   ]
  },
  {
   "cell_type": "code",
   "execution_count": 6,
   "id": "8d37a968",
   "metadata": {},
   "outputs": [
    {
     "name": "stdout",
     "output_type": "stream",
     "text": [
      "0.9947253748961725\n"
     ]
    }
   ],
   "source": [
    "# now that our model is trained, let’s check how good it is.\n",
    "from pyspark.ml.evaluation import RegressionEvaluator\n",
    "\n",
    "evaluator = RegressionEvaluator(metricName=\"mse\", labelCol=\"rating\", predictionCol=\"prediction\")\n",
    "\n",
    "mse =evaluator.evaluate(prediction)\n",
    "\n",
    "print(mse)\n"
   ]
  },
  {
   "cell_type": "code",
   "execution_count": 7,
   "id": "a46e9747",
   "metadata": {},
   "outputs": [
    {
     "name": "stdout",
     "output_type": "stream",
     "text": [
      "+------+---------------------------------------------------------------+\n",
      "|userId|recommendations                                                |\n",
      "+------+---------------------------------------------------------------+\n",
      "|148   |[{126219, 6.3913794}, {125599, 5.6114106}, {121029, 5.513494}] |\n",
      "|463   |[{126219, 6.871015}, {125599, 6.0323896}, {121029, 5.9271183}] |\n",
      "|471   |[{126219, 6.0756793}, {125599, 5.334306}, {121029, 5.2412148}] |\n",
      "|496   |[{126219, 7.090933}, {125599, 6.2257957}, {121029, 6.1169543}] |\n",
      "|833   |[{126219, 6.602971}, {125599, 5.7967944}, {121029, 5.696224}]  |\n",
      "|1088  |[{126219, 5.7822914}, {125599, 5.0763297}, {121029, 4.9883485}]|\n",
      "|1238  |[{126219, 6.3560243}, {125599, 5.5805483}, {121029, 5.4828215}]|\n",
      "|1342  |[{126219, 7.2717366}, {125599, 6.384574}, {121029, 6.273003}]  |\n",
      "|1580  |[{126219, 3.3146727}, {125599, 2.9101472}, {121029, 2.859762}] |\n",
      "|1591  |[{126219, 6.707773}, {125599, 5.889341}, {121029, 5.786321}]   |\n",
      "+------+---------------------------------------------------------------+\n",
      "only showing top 10 rows\n",
      "\n"
     ]
    }
   ],
   "source": [
    "# So let’s ask him to recommend top 3 movies for every user.\n",
    "recommended_movie_df = alsModel.recommendForAllUsers(3)\n",
    "\n",
    "#Show 10 of those recommended users\n",
    "recommended_movie_df.show(10, False)"
   ]
  },
  {
   "cell_type": "code",
   "execution_count": null,
   "id": "8edd6185",
   "metadata": {},
   "outputs": [],
   "source": [
    "# github access copy\n"
   ]
  }
 ],
 "metadata": {
  "kernelspec": {
   "display_name": "Python 3",
   "language": "python",
   "name": "python3"
  },
  "language_info": {
   "codemirror_mode": {
    "name": "ipython",
    "version": 3
   },
   "file_extension": ".py",
   "mimetype": "text/x-python",
   "name": "python",
   "nbconvert_exporter": "python",
   "pygments_lexer": "ipython3",
   "version": "3.8.8"
  }
 },
 "nbformat": 4,
 "nbformat_minor": 5
}
